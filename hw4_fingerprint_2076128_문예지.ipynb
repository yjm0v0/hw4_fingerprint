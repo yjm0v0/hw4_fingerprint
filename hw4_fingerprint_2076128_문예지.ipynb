{
 "cells": [
  {
   "cell_type": "code",
   "execution_count": 1,
   "metadata": {},
   "outputs": [],
   "source": [
    "# 1. 필요한 라이브러리 및 모듈 불러오기\n",
    "\n",
    "import os\n",
    "import numpy as np\n",
    "import cv2\n",
    "from glob import glob\n",
    "import matplotlib.pyplot as plt\n",
    "from skimage.morphology import skeletonize\n",
    "from tqdm.notebook import tqdm\n",
    "from scipy.spatial.distance import cdist\n",
    "\n",
    "# matplotlib 설정 (그래프 크기 조절)\n",
    "plt.rcParams['figure.figsize'] = (8, 8)"
   ]
  },
  {
   "cell_type": "code",
   "execution_count": 2,
   "metadata": {},
   "outputs": [],
   "source": [
    "# 2. 이미지 전처리 함수 정의 - Binarization 및 Skeletonization\n",
    "\n",
    "def binarize_image(image, threshold=127):\n",
    "    \"\"\"\n",
    "    이미지를 이진화(binarization)하는 함수\n",
    "    :param image: 입력 이미지 (그레이스케일)\n",
    "    :param threshold: 이진화 임계값\n",
    "    :return: 이진화된 이미지\n",
    "    \"\"\"\n",
    "    _, binary_image = cv2.threshold(image, threshold, 255, cv2.THRESH_BINARY)\n",
    "    return binary_image\n",
    "\n",
    "def skeletonize_image(binary_image):\n",
    "    \"\"\"\n",
    "    이진화된 이미지를 skeletonization하는 함수\n",
    "    binary_image: 이진화된 이미지\n",
    "    return: skeletonized 이미지\n",
    "    \"\"\"\n",
    "    skeleton = skeletonize(binary_image // 255) * 255\n",
    "    return skeleton.astype(np.uint8)\n",
    "\n",
    "def preprocess_image(image_path):\n",
    "    \"\"\"\n",
    "    이미지를 전처리(binarization 및 skeletonization)하는 함수\n",
    "    image_path: 이미지 파일 경로\n",
    "    return: 전처리된 이미지\n",
    "    \"\"\"\n",
    "    image = cv2.imread(image_path, cv2.IMREAD_GRAYSCALE)\n",
    "    binary_image = binarize_image(image)\n",
    "    skeleton_image = skeletonize_image(binary_image)\n",
    "    return skeleton_image"
   ]
  },
  {
   "cell_type": "code",
   "execution_count": 3,
   "metadata": {},
   "outputs": [],
   "source": [
    "# 3. 특징 추출 함수 정의 - Minutiae 검출 (end & bif)\n",
    "\n",
    "def detect_minutiae(skeleton_image):\n",
    "    \"\"\"\n",
    "    skeletonized 이미지에서 minutiae(종단점과 분기점)를 검출하는 함수\n",
    "    skeleton_image: skeletonized 이미지\n",
    "    return: minutiae 딕셔너리 (종단점과 분기점 좌표 포함)\n",
    "    \"\"\"\n",
    "    minutiae = {'end': [], 'bif': []}\n",
    "    rows, cols = skeleton_image.shape\n",
    "    \n",
    "    for i in range(1, rows - 1):\n",
    "        for j in range(1, cols - 1):\n",
    "            if skeleton_image[i, j] == 255:\n",
    "                window = skeleton_image[i-1:i+2, j-1:j+2]\n",
    "                num_neighbors = np.sum(window) // 255 - 1\n",
    "                \n",
    "                if num_neighbors == 1:\n",
    "                    minutiae['end'].append((i, j))\n",
    "                elif num_neighbors == 3:\n",
    "                    minutiae['bif'].append((i, j))\n",
    "    \n",
    "    return minutiae"
   ]
  },
  {
   "cell_type": "code",
   "execution_count": 4,
   "metadata": {},
   "outputs": [],
   "source": [
    "# 4. 매칭 함수 정의 - 매칭 및 거리 계산\n",
    "\n",
    "def match_fingerprints(minutiae1, minutiae2, threshold=20):\n",
    "    \"\"\"\n",
    "    두 지문 이미지의 minutiae를 매칭하고 거리 계산\n",
    "    minutiae1: 첫 번째 이미지의 minutiae\n",
    "    minutiae2: 두 번째 이미지의 minutiae\n",
    "    threshold: 매칭 임계값\n",
    "    return: matching_score (거리의 평균)\n",
    "    \"\"\"\n",
    "    if not minutiae1['end'] or not minutiae2['end']:\n",
    "        return float('inf')\n",
    "    \n",
    "    end1, end2 = np.array(minutiae1['end']), np.array(minutiae2['end'])\n",
    "    distances = cdist(end1, end2)\n",
    "    min_distances = np.min(distances, axis=1)\n",
    "    matching_score = np.mean(min_distances[min_distances < threshold])\n",
    "    \n",
    "    return matching_score if not np.isnan(matching_score) else float('inf')"
   ]
  },
  {
   "cell_type": "code",
   "execution_count": 5,
   "metadata": {},
   "outputs": [],
   "source": [
    "# 5. 메트릭 계산 함수 정의\n",
    "\n",
    "def calculate_metrics(matches, total_pairs, threshold):\n",
    "    \"\"\"\n",
    "    매칭 결과를 바탕으로 성능 지표 계산\n",
    "    matches: 매칭 거리 리스트\n",
    "    total_pairs: 총 매칭 쌍 수\n",
    "    threshold: 매칭 임계값\n",
    "    return: 성능 지표 딕셔너리\n",
    "    \"\"\"\n",
    "    true_positive = np.sum(matches < threshold)\n",
    "    false_negative = np.sum(matches >= threshold)\n",
    "    false_positive = total_pairs - true_positive\n",
    "    true_negative = 0  # 이 문맥에서는 true negative가 없음\n",
    "    \n",
    "    precision = true_positive / (true_positive + false_positive)\n",
    "    recall = true_positive / (true_positive + false_negative)\n",
    "    far = false_positive / total_pairs\n",
    "    frr = false_negative / total_pairs\n",
    "    acc = true_positive / total_pairs\n",
    "    \n",
    "    return {\n",
    "        'precision': precision,\n",
    "        'recall': recall,\n",
    "        'FAR': far,\n",
    "        'FRR': frr,\n",
    "        'ACC': acc\n",
    "    }"
   ]
  },
  {
   "cell_type": "code",
   "execution_count": 8,
   "metadata": {},
   "outputs": [
    {
     "data": {
      "application/vnd.jupyter.widget-view+json": {
       "model_id": "5ee2de7f316349eba2c376f1e04595b9",
       "version_major": 2,
       "version_minor": 0
      },
      "text/plain": [
       "  0%|          | 0/477 [00:00<?, ?it/s]"
      ]
     },
     "metadata": {},
     "output_type": "display_data"
    },
    {
     "data": {
      "application/vnd.jupyter.widget-view+json": {
       "model_id": "001ad9702e9f40538a3afee90e2347c0",
       "version_major": 2,
       "version_minor": 0
      },
      "text/plain": [
       "  0%|          | 0/1428 [00:00<?, ?it/s]"
      ]
     },
     "metadata": {},
     "output_type": "display_data"
    }
   ],
   "source": [
    "# 6. 지문 데이터 처리 및 매칭 수행\n",
    "\n",
    "# 데이터셋 디렉토리 설정\n",
    "train_dir = './train/train_ref'\n",
    "test_dir = './test2'\n",
    "\n",
    "# 이미지 파일 리스트 가져오기\n",
    "train_images = [f for f in os.listdir(train_dir) if f.endswith('.BMP')]\n",
    "test_images = [f for f in os.listdir(test_dir) if f.endswith('.BMP')]\n",
    "\n",
    "train_data = {}\n",
    "test_data = {}\n",
    "\n",
    "# Train 이미지 전처리 및 minutiae 추출\n",
    "for img_name in tqdm(train_images):\n",
    "    img_path = os.path.join(train_dir, img_name)\n",
    "    img_id = int(img_name.split('.')[0])\n",
    "    preprocessed_image = preprocess_image(img_path)\n",
    "    minutiae = detect_minutiae(preprocessed_image)\n",
    "    train_data[img_id] = minutiae\n",
    "\n",
    "# Test 이미지 전처리 및 minutiae 추출\n",
    "for img_name in tqdm(test_images):\n",
    "    img_path = os.path.join(test_dir, img_name)\n",
    "    img_id = int(img_name.split('_')[0])\n",
    "    img_type = img_name.split('_')[1].split('.')[0]\n",
    "    preprocessed_image = preprocess_image(img_path)\n",
    "    minutiae = detect_minutiae(preprocessed_image)\n",
    "    if img_id not in test_data:\n",
    "        test_data[img_id] = {}\n",
    "    test_data[img_id][img_type] = minutiae\n",
    "\n",
    "# 매칭 및 메트릭 계산\n",
    "matches = []\n",
    "total_pairs = len(test_images)\n",
    "initial_threshold = 20  # 초기 매칭 임계값 설정\n",
    "\n",
    "for img_id in test_data:\n",
    "    for img_type in test_data[img_id]:\n",
    "        test_minutiae = test_data[img_id][img_type]\n",
    "        if img_id in train_data:\n",
    "            train_minutiae = train_data[img_id]\n",
    "            distance = match_fingerprints(train_minutiae, test_minutiae, initial_threshold)\n",
    "            matches.append(distance)\n",
    "        else:\n",
    "            matches.append(float('inf'))\n",
    "\n"
   ]
  },
  {
   "cell_type": "code",
   "execution_count": 11,
   "metadata": {},
   "outputs": [
    {
     "name": "stdout",
     "output_type": "stream",
     "text": [
      "Threshold: 0, Metrics: {'precision': 0.0, 'recall': 0.0, 'FAR': 1.0, 'FRR': 1.0, 'ACC': 0.0}\n",
      "Threshold: 1, Metrics: {'precision': 0.6337535014005602, 'recall': 0.6337535014005602, 'FAR': 0.36624649859943975, 'FRR': 0.36624649859943975, 'ACC': 0.6337535014005602}\n",
      "Threshold: 2, Metrics: {'precision': 0.8711484593837535, 'recall': 0.8711484593837535, 'FAR': 0.12885154061624648, 'FRR': 0.12885154061624648, 'ACC': 0.8711484593837535}\n",
      "Threshold: 3, Metrics: {'precision': 0.9593837535014006, 'recall': 0.9593837535014006, 'FAR': 0.04061624649859944, 'FRR': 0.04061624649859944, 'ACC': 0.9593837535014006}\n",
      "Threshold: 4, Metrics: {'precision': 0.9908963585434174, 'recall': 0.9908963585434174, 'FAR': 0.009103641456582634, 'FRR': 0.009103641456582634, 'ACC': 0.9908963585434174}\n",
      "Threshold: 5, Metrics: {'precision': 0.9971988795518207, 'recall': 0.9971988795518207, 'FAR': 0.0028011204481792717, 'FRR': 0.0028011204481792717, 'ACC': 0.9971988795518207}\n",
      "Threshold: 6, Metrics: {'precision': 1.0, 'recall': 1.0, 'FAR': 0.0, 'FRR': 0.0, 'ACC': 1.0}\n",
      "Threshold: 7, Metrics: {'precision': 1.0, 'recall': 1.0, 'FAR': 0.0, 'FRR': 0.0, 'ACC': 1.0}\n",
      "Threshold: 8, Metrics: {'precision': 1.0, 'recall': 1.0, 'FAR': 0.0, 'FRR': 0.0, 'ACC': 1.0}\n",
      "Threshold: 9, Metrics: {'precision': 1.0, 'recall': 1.0, 'FAR': 0.0, 'FRR': 0.0, 'ACC': 1.0}\n",
      "Threshold: 10, Metrics: {'precision': 1.0, 'recall': 1.0, 'FAR': 0.0, 'FRR': 0.0, 'ACC': 1.0}\n",
      "Threshold: 11, Metrics: {'precision': 1.0, 'recall': 1.0, 'FAR': 0.0, 'FRR': 0.0, 'ACC': 1.0}\n",
      "Threshold: 12, Metrics: {'precision': 1.0, 'recall': 1.0, 'FAR': 0.0, 'FRR': 0.0, 'ACC': 1.0}\n",
      "Threshold: 13, Metrics: {'precision': 1.0, 'recall': 1.0, 'FAR': 0.0, 'FRR': 0.0, 'ACC': 1.0}\n",
      "Threshold: 14, Metrics: {'precision': 1.0, 'recall': 1.0, 'FAR': 0.0, 'FRR': 0.0, 'ACC': 1.0}\n"
     ]
    },
    {
     "data": {
      "image/png": "[encoded data removed]",
      "text/plain": [
       "<Figure size 800x800 with 1 Axes>"
      ]
     },
     "metadata": {},
     "output_type": "display_data"
    },
    {
     "name": "stdout",
     "output_type": "stream",
     "text": [
      "Optimal Threshold: 6\n",
      "Optimal Metrics: {'precision': 1.0, 'recall': 1.0, 'FAR': 0.0, 'FRR': 0.0, 'ACC': 1.0}\n"
     ]
    }
   ],
   "source": [
    "# 7. 성능 시각화 - 최적의 threshold 찾기\n",
    "\n",
    "def evaluate_thresholds(matches, total_pairs, thresholds):\n",
    "    \"\"\"\n",
    "    다양한 threshold 값에 대해 성능 지표를 계산하는 함수\n",
    "    matches: 매칭 거리 리스트\n",
    "    total_pairs: 총 매칭 쌍 수\n",
    "    thresholds: 평가할 threshold 값 리스트\n",
    "    return: 각 threshold에 대한 성능 지표 리스트\n",
    "    \"\"\"\n",
    "    results = []\n",
    "    for threshold in thresholds:\n",
    "        metrics = calculate_metrics(matches, total_pairs, threshold)\n",
    "        results.append((threshold, metrics))\n",
    "    return results\n",
    "\n",
    "# 적절한 threshold 설정을 위한 성능 평가\n",
    "thresholds = np.arange(0, 15, 1)\n",
    "results = evaluate_thresholds(np.array(matches), total_pairs, thresholds)\n",
    "\n",
    "# 성능 지표 출력 및 시각화\n",
    "for threshold, metrics in results:\n",
    "    print(f\"Threshold: {threshold}, Metrics: {metrics}\")\n",
    "\n",
    "# 성능 지표 시각화\n",
    "precisions = [metrics['precision'] for _, metrics in results]\n",
    "recalls = [metrics['recall'] for _, metrics in results]\n",
    "fars = [metrics['FAR'] for _, metrics in results]\n",
    "frrs = [metrics['FRR'] for _, metrics in results]\n",
    "accs = [metrics['ACC'] for _, metrics in results]\n",
    "\n",
    "plt.plot(thresholds, precisions, label='Precision')\n",
    "plt.plot(thresholds, recalls, label='Recall')\n",
    "plt.plot(thresholds, fars, label='FAR')\n",
    "plt.plot(thresholds, frrs, label='FRR')\n",
    "plt.plot(thresholds, accs, label='Accuracy')\n",
    "plt.xlabel('Threshold')\n",
    "plt.ylabel('Metrics')\n",
    "plt.legend()\n",
    "plt.show()\n",
    "\n",
    "# 최적 threshold 선택\n",
    "optimal_threshold = thresholds[np.argmax(accs)]\n",
    "print(f\"Optimal Threshold: {optimal_threshold}\")\n",
    "\n",
    "# 최적 threshold에서의 성능 지표 출력\n",
    "optimal_metrics = calculate_metrics(np.array(matches), total_pairs, optimal_threshold)\n",
    "print(f\"Optimal Metrics: {optimal_metrics}\")"
   ]
  }
 ],
 "metadata": {
  "kernelspec": {
   "display_name": "Python 3",
   "language": "python",
   "name": "python3"
  },
  "language_info": {
   "codemirror_mode": {
    "name": "ipython",
    "version": 3
   },
   "file_extension": ".py",
   "mimetype": "text/x-python",
   "name": "python",
   "nbconvert_exporter": "python",
   "pygments_lexer": "ipython3",
   "version": "3.11.3"
  }
 },
 "nbformat": 4,
 "nbformat_minor": 2
}
